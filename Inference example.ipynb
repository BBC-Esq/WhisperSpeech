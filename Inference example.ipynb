{
 "cells": [
  {
   "cell_type": "markdown",
   "id": "61fe7942",
   "metadata": {},
   "source": [
    "# Inference examples"
   ]
  },
  {
   "cell_type": "code",
   "execution_count": null,
   "id": "e7885be1",
   "metadata": {},
   "outputs": [],
   "source": [
    "%load_ext autoreload\n",
    "%autoreload 2"
   ]
  },
  {
   "cell_type": "code",
   "execution_count": null,
   "id": "f32e8d5f",
   "metadata": {},
   "outputs": [],
   "source": [
    "import torch\n",
    "import torch.nn.functional as F\n",
    "\n",
    "import pandas as pd\n",
    "from huggingface_hub import hf_hub_download\n",
    "\n",
    "from IPython.display import Markdown, HTML"
   ]
  },
  {
   "cell_type": "markdown",
   "id": "6f7e6e3b",
   "metadata": {},
   "source": [
    "## The whole pipeline"
   ]
  },
  {
   "cell_type": "code",
   "execution_count": null,
   "id": "93525c56",
   "metadata": {},
   "outputs": [
    {
     "name": "stderr",
     "output_type": "stream",
     "text": [
      "/opt/conda/lib/python3.10/site-packages/whisper/timing.py:58: NumbaDeprecationWarning: \u001b[1mThe 'nopython' keyword argument was not supplied to the 'numba.jit' decorator. The implicit default value for this argument is currently False, but it will be changed to True in Numba 0.59.0. See https://numba.readthedocs.io/en/stable/reference/deprecation.html#deprecation-of-object-mode-fall-back-behaviour-when-using-jit for details.\u001b[0m\n",
      "  def backtrace(trace: np.ndarray):\n"
     ]
    }
   ],
   "source": [
    "from whisperspeech.pipeline import Pipeline"
   ]
  },
  {
   "cell_type": "code",
   "execution_count": null,
   "id": "49be72e0",
   "metadata": {},
   "outputs": [],
   "source": [
    "pipe = Pipeline()"
   ]
  },
  {
   "cell_type": "code",
   "execution_count": null,
   "id": "8f760666",
   "metadata": {},
   "outputs": [
    {
     "data": {
      "text/html": [
       "\n",
       "<style>\n",
       "    /* Turns off some styling */\n",
       "    progress {\n",
       "        /* gets rid of default border in Firefox and Opera. */\n",
       "        border: none;\n",
       "        /* Needs to be in here for Safari polyfill so background images work as expected. */\n",
       "        background-size: auto;\n",
       "    }\n",
       "    progress:not([value]), progress:not([value])::-webkit-progress-bar {\n",
       "        background: repeating-linear-gradient(45deg, #7e7e7e, #7e7e7e 10px, #5c5c5c 10px, #5c5c5c 20px);\n",
       "    }\n",
       "    .progress-bar-interrupted, .progress-bar-interrupted::-webkit-progress-bar {\n",
       "        background: #F44336;\n",
       "    }\n",
       "</style>\n"
      ],
      "text/plain": [
       "<IPython.core.display.HTML object>"
      ]
     },
     "metadata": {},
     "output_type": "display_data"
    },
    {
     "data": {
      "text/html": [
       "\n",
       "    <div>\n",
       "      <progress value='1383' class='' max='1500' style='width:300px; height:20px; vertical-align: middle;'></progress>\n",
       "      92.20% [1383/1500 00:03&lt;00:00]\n",
       "    </div>\n",
       "    "
      ],
      "text/plain": [
       "<IPython.core.display.HTML object>"
      ]
     },
     "metadata": {},
     "output_type": "display_data"
    },
    {
     "data": {
      "text/html": [
       "\n",
       "<style>\n",
       "    /* Turns off some styling */\n",
       "    progress {\n",
       "        /* gets rid of default border in Firefox and Opera. */\n",
       "        border: none;\n",
       "        /* Needs to be in here for Safari polyfill so background images work as expected. */\n",
       "        background-size: auto;\n",
       "    }\n",
       "    progress:not([value]), progress:not([value])::-webkit-progress-bar {\n",
       "        background: repeating-linear-gradient(45deg, #7e7e7e, #7e7e7e 10px, #5c5c5c 10px, #5c5c5c 20px);\n",
       "    }\n",
       "    .progress-bar-interrupted, .progress-bar-interrupted::-webkit-progress-bar {\n",
       "        background: #F44336;\n",
       "    }\n",
       "</style>\n"
      ],
      "text/plain": [
       "<IPython.core.display.HTML object>"
      ]
     },
     "metadata": {},
     "output_type": "display_data"
    },
    {
     "data": {
      "text/html": [
       "\n",
       "    <div>\n",
       "      <progress value='4350' class='' max='4350' style='width:300px; height:20px; vertical-align: middle;'></progress>\n",
       "      100.00% [4350/4350 00:16&lt;00:00]\n",
       "    </div>\n",
       "    "
      ],
      "text/plain": [
       "<IPython.core.display.HTML object>"
      ]
     },
     "metadata": {},
     "output_type": "display_data"
    },
    {
     "data": {
      "text/html": [
       "<a href=\"generated-audio.wav\" target=\"_blank\">Listen to generated-audio.wav</a>"
      ],
      "text/plain": [
       "<IPython.core.display.HTML object>"
      ]
     },
     "metadata": {},
     "output_type": "display_data"
    }
   ],
   "source": [
    "pipe.generate_to_file('generated-audio.wav', \"\"\"\n",
    "I am Whisper Speech, a new open-source text to speech model. We choose to train a text\n",
    "to speech system this year not because this is easy,\n",
    "but because this is hard, because that goal will serve to organize and measure\n",
    "the best of our energies and skills, because that challenge is one that we are willing\n",
    "to accept, one we are unwilling to postpone, and one we intend to win!\n",
    "\"\"\")"
   ]
  },
  {
   "cell_type": "markdown",
   "id": "1f962db9",
   "metadata": {},
   "source": [
    "## Semantic token quantization model"
   ]
  },
  {
   "cell_type": "code",
   "execution_count": null,
   "id": "45f31e40",
   "metadata": {},
   "outputs": [],
   "source": [
    "from whisperspeech.extract_stoks import RQBottleneckTransformer"
   ]
  },
  {
   "cell_type": "code",
   "execution_count": null,
   "id": "77630bd2",
   "metadata": {},
   "outputs": [],
   "source": [
    "vqmodel = RQBottleneckTransformer.load_model().cuda()"
   ]
  },
  {
   "cell_type": "code",
   "execution_count": null,
   "id": "246ca315",
   "metadata": {},
   "outputs": [],
   "source": [
    "stoks_txt = pd.read_feather(hf_hub_download('collabora/whisperspeech', 'stoks-txt/whisperspeech-librilight-stoks-txt-small-medium-A.feather', repo_type='dataset'))"
   ]
  },
  {
   "cell_type": "code",
   "execution_count": null,
   "id": "fee765d6",
   "metadata": {},
   "outputs": [
    {
     "data": {
      "text/markdown": [
       "\n",
       "**Original:**  Preface 2. Murder in the Gunroom. This is a Libervox recording. All Libervox recordings are in the public domain. For more information or to volunteer, please visit Libervox.org. Recording by Anthony Wilson.\n",
       "\n",
       "**Quantized:** 2. Murder in the Gunroom This is a Libra Vox recording. All Libra Vox recordings are in the public domain. For more information or to volunteer, please visit LibraVox.org. Recording by Anthony Wilson.\n"
      ],
      "text/plain": [
       "<IPython.core.display.Markdown object>"
      ]
     },
     "metadata": {},
     "output_type": "display_data"
    }
   ],
   "source": [
    "display(Markdown(f\"\"\"\n",
    "**Original:** {stoks_txt.iloc[0]['txt_tiny']}\n",
    "\n",
    "**Quantized:** {vqmodel.decode_text(stoks_txt.iloc[0]['stoks'])[0].text}\n",
    "\"\"\"))"
   ]
  },
  {
   "cell_type": "markdown",
   "id": "414d9b3c",
   "metadata": {},
   "source": [
    "## Text to semantic model"
   ]
  },
  {
   "cell_type": "code",
   "execution_count": null,
   "id": "59817352",
   "metadata": {},
   "outputs": [
    {
     "name": "stderr",
     "output_type": "stream",
     "text": [
      "/opt/conda/lib/python3.10/site-packages/whisper/timing.py:58: NumbaDeprecationWarning: \u001b[1mThe 'nopython' keyword argument was not supplied to the 'numba.jit' decorator. The implicit default value for this argument is currently False, but it will be changed to True in Numba 0.59.0. See https://numba.readthedocs.io/en/stable/reference/deprecation.html#deprecation-of-object-mode-fall-back-behaviour-when-using-jit for details.\u001b[0m\n",
      "  def backtrace(trace: np.ndarray):\n"
     ]
    }
   ],
   "source": [
    "from whisperspeech.t2s_up import TSARTransformer"
   ]
  },
  {
   "cell_type": "code",
   "execution_count": null,
   "id": "33c63b7b",
   "metadata": {},
   "outputs": [],
   "source": [
    "t2s = TSARTransformer.load_model(local_filename='nbs/t2s_up.model').cuda()"
   ]
  },
  {
   "cell_type": "code",
   "execution_count": null,
   "id": "427586cb",
   "metadata": {},
   "outputs": [
    {
     "data": {
      "text/html": [
       "\n",
       "<style>\n",
       "    /* Turns off some styling */\n",
       "    progress {\n",
       "        /* gets rid of default border in Firefox and Opera. */\n",
       "        border: none;\n",
       "        /* Needs to be in here for Safari polyfill so background images work as expected. */\n",
       "        background-size: auto;\n",
       "    }\n",
       "    progress:not([value]), progress:not([value])::-webkit-progress-bar {\n",
       "        background: repeating-linear-gradient(45deg, #7e7e7e, #7e7e7e 10px, #5c5c5c 10px, #5c5c5c 20px);\n",
       "    }\n",
       "    .progress-bar-interrupted, .progress-bar-interrupted::-webkit-progress-bar {\n",
       "        background: #F44336;\n",
       "    }\n",
       "</style>\n"
      ],
      "text/plain": [
       "<IPython.core.display.HTML object>"
      ]
     },
     "metadata": {},
     "output_type": "display_data"
    },
    {
     "data": {
      "text/html": [
       "\n",
       "    <div>\n",
       "      <progress value='1294' class='' max='1500' style='width:300px; height:20px; vertical-align: middle;'></progress>\n",
       "      86.27% [1294/1500 00:02&lt;00:00]\n",
       "    </div>\n",
       "    "
      ],
      "text/plain": [
       "<IPython.core.display.HTML object>"
      ]
     },
     "metadata": {},
     "output_type": "display_data"
    }
   ],
   "source": [
    "text = \"\"\"We choose to train an Open Source text to speech system this year, not because this is easy,\n",
    "but because this is hard! Because that goal will serve to organize and measure\n",
    "the best of our energies and skills! Because that challenge is one that we are willing\n",
    "to accept! one we are unwilling to postpone! and one we intend to win!\"\"\".replace('\\n', '')\n",
    "stoks = t2s.generate(text, T=.7)"
   ]
  },
  {
   "cell_type": "code",
   "execution_count": null,
   "id": "cf7af993",
   "metadata": {},
   "outputs": [
    {
     "data": {
      "text/plain": [
       "'We choose to train an open source text to speak system this year, not because this is easy, but because this is hard. Because that goal will serve to organize and measure the best of our energies and skills, because that challenges one that we are willing to accept,'"
      ]
     },
     "execution_count": null,
     "metadata": {},
     "output_type": "execute_result"
    }
   ],
   "source": [
    "vqmodel.decode_text(stoks.cpu())[0].text"
   ]
  },
  {
   "cell_type": "markdown",
   "id": "518c7984",
   "metadata": {},
   "source": [
    "## Semantic to acoustic model (multispeaker)"
   ]
  },
  {
   "cell_type": "code",
   "execution_count": null,
   "id": "09526860",
   "metadata": {},
   "outputs": [],
   "source": [
    "from whisperspeech.s2a_delar_mup import SADelARTransformer\n",
    "from whisperspeech.a2wav import Vocoder"
   ]
  },
  {
   "cell_type": "code",
   "execution_count": null,
   "id": "d8c57591",
   "metadata": {},
   "outputs": [],
   "source": [
    "model = SADelARTransformer.load_model(local_filename='nbs/s2a_up.model').cuda()\n",
    "vocoder = Vocoder()"
   ]
  },
  {
   "cell_type": "code",
   "execution_count": null,
   "id": "264ab2f9",
   "metadata": {},
   "outputs": [
    {
     "data": {
      "text/html": [
       "\n",
       "<style>\n",
       "    /* Turns off some styling */\n",
       "    progress {\n",
       "        /* gets rid of default border in Firefox and Opera. */\n",
       "        border: none;\n",
       "        /* Needs to be in here for Safari polyfill so background images work as expected. */\n",
       "        background-size: auto;\n",
       "    }\n",
       "    progress:not([value]), progress:not([value])::-webkit-progress-bar {\n",
       "        background: repeating-linear-gradient(45deg, #7e7e7e, #7e7e7e 10px, #5c5c5c 10px, #5c5c5c 20px);\n",
       "    }\n",
       "    .progress-bar-interrupted, .progress-bar-interrupted::-webkit-progress-bar {\n",
       "        background: #F44336;\n",
       "    }\n",
       "</style>\n"
      ],
      "text/plain": [
       "<IPython.core.display.HTML object>"
      ]
     },
     "metadata": {},
     "output_type": "display_data"
    },
    {
     "data": {
      "text/html": [
       "\n",
       "    <div>\n",
       "      <progress value='2011' class='' max='2011' style='width:300px; height:20px; vertical-align: middle;'></progress>\n",
       "      100.00% [2011/2011 00:20&lt;00:00]\n",
       "    </div>\n",
       "    "
      ],
      "text/plain": [
       "<IPython.core.display.HTML object>"
      ]
     },
     "metadata": {},
     "output_type": "display_data"
    },
    {
     "data": {
      "text/html": [
       "<a href=\"generated-audio-S4078.wav\" target=\"_blank\">Listen to generated-audio-S4078.wav</a>"
      ],
      "text/plain": [
       "<IPython.core.display.HTML object>"
      ]
     },
     "metadata": {},
     "output_type": "display_data"
    },
    {
     "data": {
      "text/html": [
       "\n",
       "<style>\n",
       "    /* Turns off some styling */\n",
       "    progress {\n",
       "        /* gets rid of default border in Firefox and Opera. */\n",
       "        border: none;\n",
       "        /* Needs to be in here for Safari polyfill so background images work as expected. */\n",
       "        background-size: auto;\n",
       "    }\n",
       "    progress:not([value]), progress:not([value])::-webkit-progress-bar {\n",
       "        background: repeating-linear-gradient(45deg, #7e7e7e, #7e7e7e 10px, #5c5c5c 10px, #5c5c5c 20px);\n",
       "    }\n",
       "    .progress-bar-interrupted, .progress-bar-interrupted::-webkit-progress-bar {\n",
       "        background: #F44336;\n",
       "    }\n",
       "</style>\n"
      ],
      "text/plain": [
       "<IPython.core.display.HTML object>"
      ]
     },
     "metadata": {},
     "output_type": "display_data"
    },
    {
     "data": {
      "text/html": [
       "\n",
       "    <div>\n",
       "      <progress value='2011' class='' max='2011' style='width:300px; height:20px; vertical-align: middle;'></progress>\n",
       "      100.00% [2011/2011 00:20&lt;00:00]\n",
       "    </div>\n",
       "    "
      ],
      "text/plain": [
       "<IPython.core.display.HTML object>"
      ]
     },
     "metadata": {},
     "output_type": "display_data"
    },
    {
     "data": {
      "text/html": [
       "<a href=\"generated-audio-S2156.wav\" target=\"_blank\">Listen to generated-audio-S2156.wav</a>"
      ],
      "text/plain": [
       "<IPython.core.display.HTML object>"
      ]
     },
     "metadata": {},
     "output_type": "display_data"
    },
    {
     "data": {
      "text/html": [
       "\n",
       "<style>\n",
       "    /* Turns off some styling */\n",
       "    progress {\n",
       "        /* gets rid of default border in Firefox and Opera. */\n",
       "        border: none;\n",
       "        /* Needs to be in here for Safari polyfill so background images work as expected. */\n",
       "        background-size: auto;\n",
       "    }\n",
       "    progress:not([value]), progress:not([value])::-webkit-progress-bar {\n",
       "        background: repeating-linear-gradient(45deg, #7e7e7e, #7e7e7e 10px, #5c5c5c 10px, #5c5c5c 20px);\n",
       "    }\n",
       "    .progress-bar-interrupted, .progress-bar-interrupted::-webkit-progress-bar {\n",
       "        background: #F44336;\n",
       "    }\n",
       "</style>\n"
      ],
      "text/plain": [
       "<IPython.core.display.HTML object>"
      ]
     },
     "metadata": {},
     "output_type": "display_data"
    },
    {
     "data": {
      "text/html": [
       "\n",
       "    <div>\n",
       "      <progress value='2011' class='' max='2011' style='width:300px; height:20px; vertical-align: middle;'></progress>\n",
       "      100.00% [2011/2011 00:20&lt;00:00]\n",
       "    </div>\n",
       "    "
      ],
      "text/plain": [
       "<IPython.core.display.HTML object>"
      ]
     },
     "metadata": {},
     "output_type": "display_data"
    },
    {
     "data": {
      "text/html": [
       "<a href=\"generated-audio-S3645.wav\" target=\"_blank\">Listen to generated-audio-S3645.wav</a>"
      ],
      "text/plain": [
       "<IPython.core.display.HTML object>"
      ]
     },
     "metadata": {},
     "output_type": "display_data"
    },
    {
     "data": {
      "text/html": [
       "\n",
       "<style>\n",
       "    /* Turns off some styling */\n",
       "    progress {\n",
       "        /* gets rid of default border in Firefox and Opera. */\n",
       "        border: none;\n",
       "        /* Needs to be in here for Safari polyfill so background images work as expected. */\n",
       "        background-size: auto;\n",
       "    }\n",
       "    progress:not([value]), progress:not([value])::-webkit-progress-bar {\n",
       "        background: repeating-linear-gradient(45deg, #7e7e7e, #7e7e7e 10px, #5c5c5c 10px, #5c5c5c 20px);\n",
       "    }\n",
       "    .progress-bar-interrupted, .progress-bar-interrupted::-webkit-progress-bar {\n",
       "        background: #F44336;\n",
       "    }\n",
       "</style>\n"
      ],
      "text/plain": [
       "<IPython.core.display.HTML object>"
      ]
     },
     "metadata": {},
     "output_type": "display_data"
    },
    {
     "data": {
      "text/html": [
       "\n",
       "    <div>\n",
       "      <progress value='2011' class='' max='2011' style='width:300px; height:20px; vertical-align: middle;'></progress>\n",
       "      100.00% [2011/2011 00:20&lt;00:00]\n",
       "    </div>\n",
       "    "
      ],
      "text/plain": [
       "<IPython.core.display.HTML object>"
      ]
     },
     "metadata": {},
     "output_type": "display_data"
    },
    {
     "data": {
      "text/html": [
       "<a href=\"generated-audio-S6454.wav\" target=\"_blank\">Listen to generated-audio-S6454.wav</a>"
      ],
      "text/plain": [
       "<IPython.core.display.HTML object>"
      ]
     },
     "metadata": {},
     "output_type": "display_data"
    }
   ],
   "source": [
    "# this takes a while since we did not yet implement key/query caching in the decoder\n",
    "for spk in [\"4078\",\"2156\",\"3645\",\"6454\"]:\n",
    "    atoks = model.generate(stoks, [spk], T=.6, top_k=512)\n",
    "    vocoder.decode_to_file(f\"generated-audio-S{spk}.wav\", atoks)"
   ]
  },
  {
   "cell_type": "code",
   "execution_count": null,
   "id": "27d9861c",
   "metadata": {},
   "outputs": [
    {
     "data": {
      "text/html": [
       "\n",
       "<style>\n",
       "    /* Turns off some styling */\n",
       "    progress {\n",
       "        /* gets rid of default border in Firefox and Opera. */\n",
       "        border: none;\n",
       "        /* Needs to be in here for Safari polyfill so background images work as expected. */\n",
       "        background-size: auto;\n",
       "    }\n",
       "    progress:not([value]), progress:not([value])::-webkit-progress-bar {\n",
       "        background: repeating-linear-gradient(45deg, #7e7e7e, #7e7e7e 10px, #5c5c5c 10px, #5c5c5c 20px);\n",
       "    }\n",
       "    .progress-bar-interrupted, .progress-bar-interrupted::-webkit-progress-bar {\n",
       "        background: #F44336;\n",
       "    }\n",
       "</style>\n"
      ],
      "text/plain": [
       "<IPython.core.display.HTML object>"
      ]
     },
     "metadata": {},
     "output_type": "display_data"
    },
    {
     "data": {
      "text/html": [
       "\n",
       "    <div>\n",
       "      <progress value='2011' class='' max='2011' style='width:300px; height:20px; vertical-align: middle;'></progress>\n",
       "      100.00% [2011/2011 00:20&lt;00:00]\n",
       "    </div>\n",
       "    "
      ],
      "text/plain": [
       "<IPython.core.display.HTML object>"
      ]
     },
     "metadata": {},
     "output_type": "display_data"
    },
    {
     "data": {
      "text/html": [
       "<a href=\"generated-audio-S8713.wav\" target=\"_blank\">Listen to generated-audio-S8713.wav</a>"
      ],
      "text/plain": [
       "<IPython.core.display.HTML object>"
      ]
     },
     "metadata": {},
     "output_type": "display_data"
    },
    {
     "data": {
      "text/html": [
       "\n",
       "<style>\n",
       "    /* Turns off some styling */\n",
       "    progress {\n",
       "        /* gets rid of default border in Firefox and Opera. */\n",
       "        border: none;\n",
       "        /* Needs to be in here for Safari polyfill so background images work as expected. */\n",
       "        background-size: auto;\n",
       "    }\n",
       "    progress:not([value]), progress:not([value])::-webkit-progress-bar {\n",
       "        background: repeating-linear-gradient(45deg, #7e7e7e, #7e7e7e 10px, #5c5c5c 10px, #5c5c5c 20px);\n",
       "    }\n",
       "    .progress-bar-interrupted, .progress-bar-interrupted::-webkit-progress-bar {\n",
       "        background: #F44336;\n",
       "    }\n",
       "</style>\n"
      ],
      "text/plain": [
       "<IPython.core.display.HTML object>"
      ]
     },
     "metadata": {},
     "output_type": "display_data"
    },
    {
     "data": {
      "text/html": [
       "\n",
       "    <div>\n",
       "      <progress value='2011' class='' max='2011' style='width:300px; height:20px; vertical-align: middle;'></progress>\n",
       "      100.00% [2011/2011 00:20&lt;00:00]\n",
       "    </div>\n",
       "    "
      ],
      "text/plain": [
       "<IPython.core.display.HTML object>"
      ]
     },
     "metadata": {},
     "output_type": "display_data"
    },
    {
     "data": {
      "text/html": [
       "<a href=\"generated-audio-S3157.wav\" target=\"_blank\">Listen to generated-audio-S3157.wav</a>"
      ],
      "text/plain": [
       "<IPython.core.display.HTML object>"
      ]
     },
     "metadata": {},
     "output_type": "display_data"
    }
   ],
   "source": [
    "# this takes a while since we did not yet implement key/query caching in the decoder\n",
    "for spk in [\"8713\",\"3157\"]:\n",
    "    atoks = model.generate(stoks, [spk], T=.5)\n",
    "    vocoder.decode_to_file(f\"generated-audio-S{spk}.wav\", atoks)"
   ]
  },
  {
   "cell_type": "code",
   "execution_count": null,
   "id": "50ebb8fe",
   "metadata": {},
   "outputs": [],
   "source": []
  }
 ],
 "metadata": {
  "kernelspec": {
   "display_name": "python3",
   "language": "python",
   "name": "python3"
  }
 },
 "nbformat": 4,
 "nbformat_minor": 5
}
