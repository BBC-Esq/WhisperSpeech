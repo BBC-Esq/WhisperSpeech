{
 "cells": [
  {
   "cell_type": "code",
   "execution_count": null,
   "id": "270a43c8",
   "metadata": {},
   "outputs": [],
   "source": [
    "#| default_exp pipeline"
   ]
  },
  {
   "cell_type": "code",
   "execution_count": null,
   "id": "e1ea1c0a",
   "metadata": {},
   "outputs": [],
   "source": [
    "#| exporti\n",
    "import torch\n",
    "from whisperspeech.t2s_up import TSARTransformer\n",
    "from whisperspeech.s2a_delar_mup import SAARTransformer\n",
    "from whisperspeech.a2wav import Vocoder"
   ]
  },
  {
   "cell_type": "code",
   "execution_count": null,
   "id": "502ea753",
   "metadata": {},
   "outputs": [],
   "source": [
    "#| export\n",
    "class Pipeline:\n",
    "    def __init__(self):\n",
    "        self.t2s = TSARTransformer.load_model(local_filename='nbs/t2s_up.model').cuda()\n",
    "        self.s2a = SADelARTransformer.load_model(local_filename='nbs/s2a_up.model').cuda()\n",
    "        self.vocoder = Vocoder()\n",
    "\n",
    "    def generate(self, text):\n",
    "        stoks = self.t2s.generate(text, T=0.6)\n",
    "        atoks = self.s2a.generate(stoks, T=0.6)\n",
    "        audio = self.vocoder.decode(atoks)\n",
    "        return audio\n",
    "    \n",
    "    def generate_to_file(self, fname, text):\n",
    "        stoks = self.t2s.generate(text)\n",
    "        atoks = self.s2a.generate(stoks)\n",
    "        self.vocoder.decode_to_file(fname, atoks)"
   ]
  }
 ],
 "metadata": {
  "kernelspec": {
   "display_name": "python3",
   "language": "python",
   "name": "python3"
  }
 },
 "nbformat": 4,
 "nbformat_minor": 5
}
