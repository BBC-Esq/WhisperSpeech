{
 "cells": [
  {
   "cell_type": "code",
   "execution_count": null,
   "id": "270a43c8",
   "metadata": {},
   "outputs": [],
   "source": [
    "#| default_exp pipeline"
   ]
  },
  {
   "cell_type": "code",
   "execution_count": null,
   "id": "e1ea1c0a",
   "metadata": {},
   "outputs": [],
   "source": [
    "#| exporti\n",
    "import torch\n",
    "from whisperspeech.t2s_up_wds import TSARTransformer\n",
    "from whisperspeech.s2a_delar_mup_wds import SADelARTransformer\n",
    "from whisperspeech.a2wav import Vocoder"
   ]
  },
  {
   "cell_type": "code",
   "execution_count": null,
   "id": "502ea753",
   "metadata": {},
   "outputs": [],
   "source": [
    "#| export\n",
    "class Pipeline:\n",
    "    def __init__(self):\n",
    "        self.t2s = TSARTransformer.load_model().cuda()\n",
    "        self.s2a = SADelARTransformer.load_model().cuda()\n",
    "        self.vocoder = Vocoder()\n",
    "\n",
    "    def generate_atoks(self, text, speaker=\"8699\"):\n",
    "        text = text.replace(\"\\n\", \" \")\n",
    "        stoks = self.t2s.generate(text, cps=14)\n",
    "        atoks = self.s2a.generate(stoks, [speaker])\n",
    "        return atoks\n",
    "        \n",
    "    def generate(self, text, speaker=\"8699\"):\n",
    "        return self.vocoder.decode(self.generate_atoks(text, speaker))\n",
    "    \n",
    "    def generate_to_file(self, fname, text, speaker=\"8699\"):\n",
    "        self.vocoder.decode_to_file(fname, self.generate_atoks(text, speaker))\n",
    "        \n",
    "    def generate_to_notebook(self, text, speaker=\"8699\"):\n",
    "        self.vocoder.decode_to_notebook(self.generate_atoks(text, speaker))"
   ]
  }
 ],
 "metadata": {
  "kernelspec": {
   "display_name": "python3",
   "language": "python",
   "name": "python3"
  }
 },
 "nbformat": 4,
 "nbformat_minor": 5
}
